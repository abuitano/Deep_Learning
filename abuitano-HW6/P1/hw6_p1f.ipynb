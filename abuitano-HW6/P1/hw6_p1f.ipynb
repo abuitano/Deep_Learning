{
 "cells": [
  {
   "cell_type": "code",
   "execution_count": 17,
   "id": "22bb43f5",
   "metadata": {},
   "outputs": [],
   "source": [
    "import numpy as np\n",
    "\n",
    "wf = [1, 2]\n",
    "wi = [-1, 0]\n",
    "wc = [1, 2]\n",
    "wo = [3, 0]\n",
    "\n",
    "uf = [0.5]\n",
    "ui = [2]\n",
    "uc = [1.5]\n",
    "uo = [-1]\n",
    "\n",
    "bf = [0.2]\n",
    "bi = [-0.1]\n",
    "bc = [0.5]\n",
    "bo = [0.8]\n",
    "\n",
    "x1 = [[1],[0]]\n",
    "x2 = [[0.5], [-1]]\n",
    "\n",
    "y1 = 0.5\n",
    "y2 = 0.8\n",
    "\n",
    "h0 = 0\n",
    "c0 = 0"
   ]
  },
  {
   "cell_type": "code",
   "execution_count": 18,
   "id": "58226c87",
   "metadata": {},
   "outputs": [],
   "source": [
    "def sigmoid(x):\n",
    "    return 1/(1+np.exp(-x))\n",
    "def tanh(x):\n",
    "    return (np.exp(x)-np.exp(-x))/(np.exp(x)+np.exp(-x))"
   ]
  },
  {
   "cell_type": "code",
   "execution_count": 19,
   "id": "fd74ade3",
   "metadata": {},
   "outputs": [],
   "source": [
    "def foi(w, u, b, x, h):\n",
    "    return sigmoid(np.dot(w,x) + np.dot(u,h) + b)\n",
    "def c_hash(w, u, b, x, h):\n",
    "    return tanh(np.dot(w,x) + np.dot(u,h) + b)\n",
    "\n",
    "f1 = foi(wf, uf, bf, x1, h0)\n",
    "i1 = foi(wi, ui, bi, x1, h0)\n",
    "o1 = foi(wo, uo, bo, x1, h0)\n",
    "chash1 = c_hash(wc, uc, bc, x1, h0)\n",
    "\n",
    "c1 = f1*c0 + i1*chash1\n",
    "\n",
    "h1 = o1*tanh(c1)"
   ]
  },
  {
   "cell_type": "code",
   "execution_count": 20,
   "id": "11f43eed",
   "metadata": {},
   "outputs": [
    {
     "data": {
      "text/plain": [
       "array([0.21741464])"
      ]
     },
     "execution_count": 20,
     "metadata": {},
     "output_type": "execute_result"
    }
   ],
   "source": [
    "h1"
   ]
  },
  {
   "cell_type": "code",
   "execution_count": 23,
   "id": "797cf361",
   "metadata": {},
   "outputs": [],
   "source": [
    "f2 = foi(wf, uf, bf, x2, h1)\n",
    "i2 = foi(wi, ui, bi, x2, h1)\n",
    "o2 = foi(wo, uo, bo, x2, h1)\n",
    "chash2 = c_hash(wc, uc, bc, x2, h1)\n",
    "\n",
    "c2 = f2*c1 + i2*chash2\n",
    "\n",
    "h2 = o2*tanh(c2)"
   ]
  },
  {
   "cell_type": "code",
   "execution_count": 24,
   "id": "03db6ccd",
   "metadata": {},
   "outputs": [
    {
     "data": {
      "text/plain": [
       "array([-0.18988225])"
      ]
     },
     "execution_count": 24,
     "metadata": {},
     "output_type": "execute_result"
    }
   ],
   "source": [
    "h2"
   ]
  },
  {
   "cell_type": "code",
   "execution_count": 25,
   "id": "481d07aa",
   "metadata": {},
   "outputs": [
    {
     "data": {
      "text/plain": [
       "array([0.23302782])"
      ]
     },
     "execution_count": 25,
     "metadata": {},
     "output_type": "execute_result"
    }
   ],
   "source": [
    "f2"
   ]
  },
  {
   "cell_type": "code",
   "execution_count": 26,
   "id": "5dd8e493",
   "metadata": {},
   "outputs": [
    {
     "data": {
      "text/plain": [
       "array([0.45880094])"
      ]
     },
     "execution_count": 26,
     "metadata": {},
     "output_type": "execute_result"
    }
   ],
   "source": [
    "i2"
   ]
  },
  {
   "cell_type": "code",
   "execution_count": 27,
   "id": "6ea75427",
   "metadata": {},
   "outputs": [
    {
     "data": {
      "text/plain": [
       "array([0.88919901])"
      ]
     },
     "execution_count": 27,
     "metadata": {},
     "output_type": "execute_result"
    }
   ],
   "source": [
    "o2"
   ]
  },
  {
   "cell_type": "code",
   "execution_count": 28,
   "id": "9053e1f1",
   "metadata": {},
   "outputs": [
    {
     "data": {
      "text/plain": [
       "array([-0.58752507])"
      ]
     },
     "execution_count": 28,
     "metadata": {},
     "output_type": "execute_result"
    }
   ],
   "source": [
    "chash2"
   ]
  }
 ],
 "metadata": {
  "kernelspec": {
   "display_name": "Python 3 (ipykernel)",
   "language": "python",
   "name": "python3"
  },
  "language_info": {
   "codemirror_mode": {
    "name": "ipython",
    "version": 3
   },
   "file_extension": ".py",
   "mimetype": "text/x-python",
   "name": "python",
   "nbconvert_exporter": "python",
   "pygments_lexer": "ipython3",
   "version": "3.10.6"
  }
 },
 "nbformat": 4,
 "nbformat_minor": 5
}
